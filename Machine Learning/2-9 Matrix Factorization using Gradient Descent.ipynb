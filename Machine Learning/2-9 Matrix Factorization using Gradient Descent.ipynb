{
 "cells": [
  {
   "cell_type": "code",
   "execution_count": 1,
   "metadata": {},
   "outputs": [],
   "source": [
    "import numpy as np\n",
    "import pandas as pd\n",
    "import matplotlib.pyplot as plt"
   ]
  },
  {
   "cell_type": "code",
   "execution_count": 2,
   "metadata": {},
   "outputs": [],
   "source": [
    "# 일정한 값을 위해 임의성을 사용하는 numpy 도구들의 결과가 일정하게 나오도록 해줌\n",
    "np.random.seed(5)\n",
    "\n",
    "RATING_DATA_PATH = 'dataset/ratings.csv'   # 데이터 파일 경로 정의\n",
    "\n",
    "# numpy 출력 옵션 설정\n",
    "np.set_printoptions(precision=2)\n",
    "np.set_printoptions(suppress=True)"
   ]
  },
  {
   "cell_type": "code",
   "execution_count": 3,
   "metadata": {},
   "outputs": [],
   "source": [
    "# 유저 취향과 상품 속성을 곱해서 예측 값을 계산하는 함수\n",
    "def predict(Theta, X):\n",
    "\n",
    "    return Theta @ X"
   ]
  },
  {
   "cell_type": "code",
   "execution_count": 4,
   "metadata": {},
   "outputs": [],
   "source": [
    "# 행렬 인수분해 알고리즘의 손실을 계산해주는 함수\n",
    "def cost(prediction, R):\n",
    "\n",
    "    return np.nansum((prediction - R)**2)"
   ]
  },
  {
   "cell_type": "code",
   "execution_count": 5,
   "metadata": {},
   "outputs": [],
   "source": [
    "# 임의로 유저 취향과 상품 속성 행렬들을 만들어주는 함수\n",
    "def initialize(R, num_features):\n",
    "\n",
    "    num_users, num_items = R.shape\n",
    "    \n",
    "    Theta = np.random.rand(num_users, num_features)\n",
    "    X = np.random.rand(num_features, num_items)\n",
    "    \n",
    "    return Theta, X"
   ]
  },
  {
   "cell_type": "code",
   "execution_count": 6,
   "metadata": {},
   "outputs": [],
   "source": [
    "# 행렬 인수분해 경사 하강 함수\n",
    "def gradient_descent(R, Theta, X, iteration, alpha, lambda_):\n",
    "\n",
    "    num_user, num_items = R.shape\n",
    "    num_features = len(X)\n",
    "    costs = []\n",
    "        \n",
    "    for _ in range(iteration):\n",
    "        prediction = predict(Theta, X)\n",
    "        error = prediction - R\n",
    "        costs.append(cost(prediction, R))\n",
    "                          \n",
    "        for i in range(num_user):\n",
    "            for j in range(num_items):\n",
    "                if not np.isnan(R[i][j]):\n",
    "                    for k in range(num_features):\n",
    "                       \n",
    "                        Theta[i][k] -= alpha * (np.nansum(error[i, :]*X[k, :]) + lambda_*Theta[i][k])\n",
    "                        X[k][j] -= alpha*(np.nansum(error[:, j]*Theta[:, k]) + lambda_*X[k][j])\n",
    "                        \n",
    "    return Theta, X, costs"
   ]
  },
  {
   "cell_type": "code",
   "execution_count": 7,
   "metadata": {},
   "outputs": [
    {
     "data": {
      "text/plain": [
       "(array([[-0.35,  1.56,  0.31, -0.21, -0.26],\n",
       "        [ 0.92,  0.21,  0.36,  0.56,  0.99],\n",
       "        [ 0.48,  0.55, -0.19,  0.06,  1.71],\n",
       "        [-0.64,  1.03,  0.35, -0.32,  0.13],\n",
       "        [-0.39, -0.68,  0.44,  0.05,  1.05],\n",
       "        [ 0.07, -0.64,  0.92,  1.23, -0.58],\n",
       "        [ 0.33,  0.93, -1.21,  2.09,  0.27],\n",
       "        [ 0.79, -0.48,  1.12,  0.05,  0.46],\n",
       "        [ 1.06, -0.68, -0.28,  0.18, -1.12],\n",
       "        [ 0.39,  0.63,  0.14,  0.98,  0.1 ],\n",
       "        [ 1.47,  0.62, -0.91, -0.29, -0.35],\n",
       "        [-1.56,  0.77,  0.83,  1.1 ,  0.13],\n",
       "        [-0.89,  0.47,  0.47, -0.25,  0.81],\n",
       "        [ 0.86, -0.13, -1.01,  0.2 ,  0.76],\n",
       "        [-0.53, -1.14, -0.47,  0.08, -0.72],\n",
       "        [-0.27, -0.07,  0.41,  0.49,  1.5 ],\n",
       "        [ 0.17, -0.01,  0.07, -1.66,  0.27],\n",
       "        [ 1.32,  0.88,  0.83,  0.72, -1.09],\n",
       "        [-0.17, -1.68,  1.86, -0.16, -0.26],\n",
       "        [-0.88, -0.53, -1.33,  0.14,  0.19]]),\n",
       " array([[ 0.12,  0.48, -2.18, -0.67, -1.05,  0.41,  0.03, -0.37, -0.86,\n",
       "          0.44, -0.71,  1.26, -0.55,  0.17,  0.74,  0.94, -0.07,  1.98,\n",
       "          1.12,  0.68],\n",
       "        [-0.61, -0.4 , -0.12,  0.11, -0.22,  0.1 ,  0.71, -0.36,  0.97,\n",
       "          0.95,  0.62, -0.72,  0.26, -1.56,  0.18, -0.28, -0.29,  1.7 ,\n",
       "          0.02, -0.87],\n",
       "        [ 0.12,  1.59,  0.25,  1.02, -1.  ,  0.88, -0.27,  0.39,  0.33,\n",
       "          0.48, -1.17, -0.05, -1.69,  0.65, -0.12, -1.09, -0.89, -0.35,\n",
       "          0.65,  0.47],\n",
       "        [ 0.33, -0.84, -0.73, -0.55,  0.11,  1.18, -1.  ,  0.15,  0.29,\n",
       "         -0.21,  0.76,  0.46, -0.59, -0.5 , -0.92, -0.21,  0.86,  0.45,\n",
       "          1.77, -0.02],\n",
       "        [-0.75, -0.25, -0.72,  1.1 ,  0.94,  0.54,  0.55, -1.34, -1.28,\n",
       "          1.08,  0.79,  0.63, -0.68,  0.21,  1.02, -0.46, -0.06, -0.81,\n",
       "          0.93, -0.72]]))"
      ]
     },
     "execution_count": 7,
     "metadata": {},
     "output_type": "execute_result"
    }
   ],
   "source": [
    "\n",
    "ratings_df = pd.read_csv(RATING_DATA_PATH, index_col='user_id')\n",
    "\n",
    "# 평점 데이터에 mean normalization을 적용\n",
    "for row in ratings_df.values:\n",
    "    row -= np.nanmean(row)\n",
    "       \n",
    "R = ratings_df.values\n",
    "        \n",
    "Theta, X = initialize(R, 5)  # 행렬들 초기화\n",
    "Theta, X, costs = gradient_descent(R, Theta, X, 200, 0.001, 0.01)  # 경사 하강\n",
    "    \n",
    "\n",
    "\n",
    "Theta, X"
   ]
  },
  {
   "cell_type": "code",
   "execution_count": 8,
   "metadata": {},
   "outputs": [
    {
     "data": {
      "text/plain": [
       "[<matplotlib.lines.Line2D at 0x1b111d95a30>]"
      ]
     },
     "execution_count": 8,
     "metadata": {},
     "output_type": "execute_result"
    },
    {
     "data": {
      "image/png": "[encoded data removed]",
      "text/plain": [
       "<Figure size 432x288 with 1 Axes>"
      ]
     },
     "metadata": {
      "needs_background": "light"
     },
     "output_type": "display_data"
    }
   ],
   "source": [
    "# 손실이 줄어드는 걸 시각화(디버깅에 도움이 됨)\n",
    "plt.plot(costs)"
   ]
  },
  {
   "cell_type": "code",
   "execution_count": null,
   "metadata": {},
   "outputs": [],
   "source": []
  }
 ],
 "metadata": {
  "kernelspec": {
   "display_name": "Python 3",
   "language": "python",
   "name": "python3"
  },
  "language_info": {
   "codemirror_mode": {
    "name": "ipython",
    "version": 3
   },
   "file_extension": ".py",
   "mimetype": "text/x-python",
   "name": "python",
   "nbconvert_exporter": "python",
   "pygments_lexer": "ipython3",
   "version": "3.8.5"
  }
 },
 "nbformat": 4,
 "nbformat_minor": 4
}
