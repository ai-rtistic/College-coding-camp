{
 "cells": [
  {
   "cell_type": "code",
   "execution_count": 3,
   "metadata": {},
   "outputs": [],
   "source": [
    "from sklearn.datasets import load_boston     # bostion 데이터 불러오기(교육용)\n",
    "from sklearn.model_selection import train_test_split     # train set, test set 나누기\n",
    "from sklearn.linear_model import LinearRegression     # 선형 회귀 모델\n",
    "from sklearn.metrics import mean_squared_error     # MSE (평균제곱오차) 함수\n",
    "\n",
    "import pandas as pd"
   ]
  },
  {
   "cell_type": "code",
   "execution_count": 6,
   "metadata": {},
   "outputs": [
    {
     "data": {
      "text/plain": [
       "8.236881612652455"
      ]
     },
     "execution_count": 6,
     "metadata": {},
     "output_type": "execute_result"
    }
   ],
   "source": [
    "boston_dataset = load_boston()     # boston 데이터 불러오기\n",
    "\n",
    "X = pd.DataFrame(boston_dataset.data, columns = boston_dataset.feature_names)     # 입력 변수 DataFrame 만들기\n",
    "X = X[['AGE']]     # AGE 열만 고려함\n",
    "\n",
    "y = pd.DataFrame(boston_dataset.target, columns = ['MEDV'])     # 목표 변수 DataFrame 만들기\n",
    "\n",
    "X_train, X_test, y_train, y_test = train_test_split(X, y, test_size = 0.2, random_state = 5)     # train set, test set 뽑기\n",
    "\n",
    "model = LinearRegression()     # 선형 회귀 모델 만들기\n",
    "model.fit(X_train, y_train)     #선형 회귀 모델 train set 으로 학습시키기\n",
    "\n",
    "y_test_prediction = model.predict(X_test)     # 가설함수로 test 값 예측\n",
    "\n",
    "mean_squared_error(y_test, y_test_prediction) ** 0.5     # MSE 값에 제곱근 해서 모델 평가"
   ]
  },
  {
   "cell_type": "code",
   "execution_count": null,
   "metadata": {},
   "outputs": [],
   "source": []
  }
 ],
 "metadata": {
  "kernelspec": {
   "display_name": "Python 3",
   "language": "python",
   "name": "python3"
  },
  "language_info": {
   "codemirror_mode": {
    "name": "ipython",
    "version": 3
   },
   "file_extension": ".py",
   "mimetype": "text/x-python",
   "name": "python",
   "nbconvert_exporter": "python",
   "pygments_lexer": "ipython3",
   "version": "3.8.5"
  }
 },
 "nbformat": 4,
 "nbformat_minor": 4
}
