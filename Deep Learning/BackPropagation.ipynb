{
 "cells": [
  {
   "cell_type": "code",
   "execution_count": 1,
   "metadata": {},
   "outputs": [],
   "source": [
    "import numpy as np\n",
    "import pandas as pd\n",
    "import matplotlib.pyplot as plt\n"
   ]
  },
  {
   "cell_type": "code",
   "execution_count": 2,
   "metadata": {},
   "outputs": [],
   "source": [
    "# numpy 임의성 조절\n",
    "np.random.seed(42)\n",
    "\n",
    "# 데이터 셋 가지고 오기\n",
    "dataset = pd.read_csv('dataset/MNIST_preprocessed.csv', sep=',', header=None).values\n",
    "\n",
    "# 입력, 목표 변수 데이터 셋 나누기\n",
    "X = dataset[:, 0:784]\n",
    "Y = dataset[:, 784:]"
   ]
  },
  {
   "cell_type": "code",
   "execution_count": 3,
   "metadata": {},
   "outputs": [
    {
     "data": {
      "text/plain": [
       "(300, 794)"
      ]
     },
     "execution_count": 3,
     "metadata": {},
     "output_type": "execute_result"
    }
   ],
   "source": [
    "dataset.shape"
   ]
  },
  {
   "cell_type": "code",
   "execution_count": 4,
   "metadata": {},
   "outputs": [
    {
     "data": {
      "text/plain": [
       "(300, 784)"
      ]
     },
     "execution_count": 4,
     "metadata": {},
     "output_type": "execute_result"
    }
   ],
   "source": [
    "X.shape"
   ]
  },
  {
   "cell_type": "code",
   "execution_count": 5,
   "metadata": {},
   "outputs": [
    {
     "data": {
      "text/plain": [
       "(300, 10)"
      ]
     },
     "execution_count": 5,
     "metadata": {},
     "output_type": "execute_result"
    }
   ],
   "source": [
    "Y.shape"
   ]
  },
  {
   "cell_type": "code",
   "execution_count": 6,
   "metadata": {},
   "outputs": [],
   "source": [
    "# training, testing 데이터 셋 나누기\n",
    "X_train, X_test = X[0:250,], X[250:,]\n",
    "Y_train, Y_test = Y[0:250,], Y[250:,]"
   ]
  },
  {
   "cell_type": "code",
   "execution_count": 7,
   "metadata": {},
   "outputs": [
    {
     "data": {
      "text/plain": [
       "(250, 784)"
      ]
     },
     "execution_count": 7,
     "metadata": {},
     "output_type": "execute_result"
    }
   ],
   "source": [
    "X_train.shape"
   ]
  },
  {
   "cell_type": "code",
   "execution_count": 8,
   "metadata": {},
   "outputs": [
    {
     "data": {
      "text/plain": [
       "(50, 784)"
      ]
     },
     "execution_count": 8,
     "metadata": {},
     "output_type": "execute_result"
    }
   ],
   "source": [
    "X_test.shape"
   ]
  },
  {
   "cell_type": "code",
   "execution_count": 9,
   "metadata": {},
   "outputs": [],
   "source": [
    "def sigmoid(x):\n",
    "    \"\"\"시그모이드 함수\"\"\"\n",
    "    return 1/(1 + np.exp(-x))\n"
   ]
  },
  {
   "cell_type": "code",
   "execution_count": 10,
   "metadata": {},
   "outputs": [],
   "source": [
    "def d_sigmoid(x):\n",
    "    \"\"\"시그모이드 미분 함수\"\"\"\n",
    "    return (np.exp(-x))/((np.exp(-x)+1)**2)\n"
   ]
  },
  {
   "cell_type": "code",
   "execution_count": 11,
   "metadata": {},
   "outputs": [],
   "source": [
    "def initialize_parameters(neurons_per_layer):\n",
    "    \"\"\"신경망의 가중치와 편향을 초기화해주는 함수\"\"\"\n",
    "    \n",
    "    L = len(neurons_per_layer) - 1  # 입력층을 포함함 층 개수 저장\n",
    "    parameters = {}\n",
    "    \n",
    "    # 1층 부터 L 층까지 돌면서 가중치와 편향 초기화\n",
    "    for l in range(1, L+1):\n",
    "        parameters['W' + str(l)] = np.random.randn(neurons_per_layer[l], neurons_per_layer[l-1]) * np.sqrt(1. / neurons_per_layer[l])\n",
    "        parameters['b' + str(l)] = np.random.randn(neurons_per_layer[l]) * np.sqrt(1. / neurons_per_layer[l])\n",
    "        \n",
    "        # 신경망의 가중치와 편향의 값들을 초기화할 때는, 값들의 표준 오차를 1 대신 그 층의 뉴런의 개수의 루트 값과 반비례 하는 값을 사용\n",
    "        #(신경망이 훨씬 더 빠르게, 잘 학습되기 때문)\n",
    "        # 그렇게 하기 위해 임의로 초기화한 ll번째 층 가중치와 편향의 모든 원소들에 np.sqrt(1. / neurons_per_layer[l])곱해줌\n",
    "        \n",
    "    return parameters"
   ]
  },
  {
   "cell_type": "code",
   "execution_count": 12,
   "metadata": {},
   "outputs": [],
   "source": [
    "def feed_forward(x, parameters):\n",
    "    \"\"\"순전파 함수\"\"\"\n",
    "   \n",
    "    cache = {'a0': x}\n",
    "    L = len(parameters) // 2\n",
    "    \n",
    "    for l in range(1, L+1):\n",
    "        # 전 층 뉴런의 출력, 현재 층 뉴런들의 가중치, 편향 데이터를 가지고 온다.\n",
    "        a_prev = cache['a' + str(l-1)]\n",
    "        W = parameters['W' + str(l)]\n",
    "        b = parameters['b' + str(l)]\n",
    "        \n",
    "        # 데이터로 z와 a를 계산한다.\n",
    "        z = W @ a_prev + b\n",
    "        a = sigmoid(z)\n",
    "\n",
    "        # 결과 값을 캐쉬에 저장한다.\n",
    "        cache['z' + str(l)] = z\n",
    "        cache['a' + str(l)] = a\n",
    "                \n",
    "    return a, cache"
   ]
  },
  {
   "cell_type": "code",
   "execution_count": 13,
   "metadata": {},
   "outputs": [],
   "source": [
    "def compute_accuracy(x_val, y_val, parameters):\n",
    "    \"\"\"테스트 데이터에서 예측값들의 성능을 계산하는 함수\"\"\"\n",
    "    predictions = []\n",
    "\n",
    "    for x, y in zip(x_val, y_val):\n",
    "        output, _ = feed_forward(x, parameters)\n",
    "        pred = np.argmax(output)\n",
    "        predictions.append(pred == np.argmax(y))\n",
    "\n",
    "    return np.mean(predictions)"
   ]
  },
  {
   "cell_type": "code",
   "execution_count": 14,
   "metadata": {},
   "outputs": [],
   "source": [
    "def compute_loss(x_val, y_val, parameters):\n",
    "    \"\"\"학습 데이터에서 현재 모델의 손실을 계산하는 함수\"\"\"\n",
    "    loss = 0\n",
    "    \n",
    "    for x, y in zip(x_val, y_val):\n",
    "        output, _ = feed_forward(x, parameters)\n",
    "        loss += np.mean((output - y)**2) / 2\n",
    "        \n",
    "    return loss / len(x_val)"
   ]
  },
  {
   "cell_type": "code",
   "execution_count": 15,
   "metadata": {},
   "outputs": [],
   "source": [
    "def back_prop(prediction, y, cache, parameters):\n",
    "    \"\"\"역전파 함수\"\"\"\n",
    "    gradients = {}\n",
    "    L = len(cache) // 2\n",
    "    da = (prediction - y) / y.shape[0]\n",
    "    \n",
    "    for layer in range(L, 0, -1):\n",
    "        # 역전파 행렬 연산을 사용해서 각 요소에 대한 편미분 계산\n",
    "        db = d_sigmoid(cache['z' + str(layer)]) * da\n",
    "        dW = np.outer(db, cache['a' + str(layer-1)])\n",
    "        da = parameters['W'+str(layer)].T @ db\n",
    "        \n",
    "        # 계산한 편미분 값들을 저장\n",
    "        gradients['dW' + str(layer)] = dW\n",
    "        gradients['db' + str(layer)] = db\n",
    "    \n",
    "    # 계산한 편미분 값들 리턴\n",
    "    return gradients"
   ]
  },
  {
   "cell_type": "code",
   "execution_count": 16,
   "metadata": {},
   "outputs": [],
   "source": [
    "def update(parameters, gradients, alpha, m):\n",
    "    \"\"\"계산한 경사로 가중치와 편향을 업데이트 하는 함수\"\"\"\n",
    "    L = len(parameters) // 2\n",
    "    \n",
    "    for layer in range(1, L+1):\n",
    "        parameters['W'+str(layer)] -= alpha * gradients['dW'+str(layer)] / m\n",
    "        parameters['b'+str(layer)] -= alpha * gradients['db'+str(layer)] / m\n",
    "    \n",
    "    return parameters"
   ]
  },
  {
   "cell_type": "code",
   "execution_count": 17,
   "metadata": {},
   "outputs": [],
   "source": [
    "def train_nn(X_train, Y_train, X_test, Y_test, neurons_per_layer, epoch, alpha):\n",
    "    \"\"\"신경망을 학습시키는 함수\"\"\"\n",
    "    parameters = initialize_parameters(neurons_per_layer)\n",
    "    loss_list = []\n",
    "    m = X_train.shape[0]\n",
    "    \n",
    "    # epoch 번 경사 하강을 한다\n",
    "    for i in range(epoch):\n",
    "        parameters_copy = parameters.copy()\n",
    "        \n",
    "        # 모든 이미지에 대해서 경사 계산 후 평균 계산\n",
    "        for x, y in zip(X_train, Y_train):\n",
    "            prediction, cache = feed_forward(x, parameters)\n",
    "            gradients = back_prop(prediction, y, cache, parameters)\n",
    "            parameters_copy = update(parameters_copy, gradients, alpha, m)\n",
    "        \n",
    "        # 가중치와 편향 실제로 업데이트\n",
    "        parameters = parameters_copy\n",
    "        loss_list.append(compute_loss(X_train, Y_train, parameters))\n",
    "        print('{}번째 경사 하강, 테스트 셋에서 성능: {}'.format(i+1, round(compute_accuracy(X_test, Y_test, parameters), 2)))     \n",
    "            \n",
    "    return loss_list, parameters\n"
   ]
  },
  {
   "cell_type": "code",
   "execution_count": 18,
   "metadata": {},
   "outputs": [
    {
     "name": "stdout",
     "output_type": "stream",
     "text": [
      "1번째 경사 하강, 테스트 셋에서 성능: 0.16\n",
      "2번째 경사 하강, 테스트 셋에서 성능: 0.18\n",
      "3번째 경사 하강, 테스트 셋에서 성능: 0.36\n",
      "4번째 경사 하강, 테스트 셋에서 성능: 0.54\n",
      "5번째 경사 하강, 테스트 셋에서 성능: 0.64\n",
      "6번째 경사 하강, 테스트 셋에서 성능: 0.64\n",
      "7번째 경사 하강, 테스트 셋에서 성능: 0.64\n",
      "8번째 경사 하강, 테스트 셋에서 성능: 0.68\n",
      "9번째 경사 하강, 테스트 셋에서 성능: 0.68\n",
      "10번째 경사 하강, 테스트 셋에서 성능: 0.7\n",
      "11번째 경사 하강, 테스트 셋에서 성능: 0.7\n",
      "12번째 경사 하강, 테스트 셋에서 성능: 0.7\n",
      "13번째 경사 하강, 테스트 셋에서 성능: 0.7\n",
      "14번째 경사 하강, 테스트 셋에서 성능: 0.7\n",
      "15번째 경사 하강, 테스트 셋에서 성능: 0.76\n",
      "16번째 경사 하강, 테스트 셋에서 성능: 0.76\n",
      "17번째 경사 하강, 테스트 셋에서 성능: 0.78\n",
      "18번째 경사 하강, 테스트 셋에서 성능: 0.8\n",
      "19번째 경사 하강, 테스트 셋에서 성능: 0.8\n",
      "20번째 경사 하강, 테스트 셋에서 성능: 0.8\n",
      "21번째 경사 하강, 테스트 셋에서 성능: 0.8\n",
      "22번째 경사 하강, 테스트 셋에서 성능: 0.8\n",
      "23번째 경사 하강, 테스트 셋에서 성능: 0.8\n",
      "24번째 경사 하강, 테스트 셋에서 성능: 0.8\n",
      "25번째 경사 하강, 테스트 셋에서 성능: 0.8\n"
     ]
    }
   ],
   "source": [
    "neurons_per_layer = [784, 128, 64, 10]\n",
    "parameters = initialize_parameters(neurons_per_layer)\n",
    "\n",
    "loss_list, parameters = train_nn(X_train, Y_train, X_test, Y_test, neurons_per_layer, 25, 300)"
   ]
  },
  {
   "cell_type": "code",
   "execution_count": 19,
   "metadata": {},
   "outputs": [
    {
     "data": {
      "image/png": "[encoded data removed]",
      "text/plain": [
       "<Figure size 432x288 with 1 Axes>"
      ]
     },
     "metadata": {
      "needs_background": "light"
     },
     "output_type": "display_data"
    }
   ],
   "source": [
    "\n",
    "plt.plot(loss_list)\n",
    "plt.show()"
   ]
  }
 ],
 "metadata": {
  "kernelspec": {
   "display_name": "Python 3",
   "language": "python",
   "name": "python3"
  },
  "language_info": {
   "codemirror_mode": {
    "name": "ipython",
    "version": 3
   },
   "file_extension": ".py",
   "mimetype": "text/x-python",
   "name": "python",
   "nbconvert_exporter": "python",
   "pygments_lexer": "ipython3",
   "version": "3.8.5"
  }
 },
 "nbformat": 4,
 "nbformat_minor": 4
}
